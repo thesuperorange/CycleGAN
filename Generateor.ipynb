{
 "cells": [
  {
   "cell_type": "code",
   "execution_count": null,
   "metadata": {},
   "outputs": [],
   "source": [
    "        parser.add_argument('--dataroot', required=True, help='path to images (should have subfolders trainA, trainB, valA, valB, etc)')\n",
    "        parser.add_argument('--name', type=str, default='experiment_name', help='name of the experiment. It decides where to store samples and models')\n",
    "        parser.add_argument('--gpu_ids', type=str, default='0', help='gpu ids: e.g. 0  0,1,2, 0,2. use -1 for CPU')\n",
    "        parser.add_argument('--checkpoints_dir', type=str, default='./checkpoints', help='models are saved here')\n",
    "        # model parameters\n",
    "        parser.add_argument('--model', type=str, default='cycle_gan', help='chooses which model to use. [cycle_gan | pix2pix | test | colorization]')\n",
    "        parser.add_argument('--input_nc', type=int, default=3, help='# of input image channels: 3 for RGB and 1 for grayscale')\n",
    "        parser.add_argument('--output_nc', type=int, default=3, help='# of output image channels: 3 for RGB and 1 for grayscale')\n",
    "        parser.add_argument('--ngf', type=int, default=64, help='# of gen filters in the last conv layer')\n",
    "        parser.add_argument('--ndf', type=int, default=64, help='# of discrim filters in the first conv layer')\n",
    "        parser.add_argument('--netD', type=str, default='basic', help='specify discriminator architecture [basic | n_layers | pixel]. The basic model is a 70x70 PatchGAN. n_layers allows you to specify the layers in the discriminator')\n",
    "        parser.add_argument('--netG', type=str, default='resnet_9blocks', help='specify generator architecture [resnet_9blocks | resnet_6blocks | unet_256 | unet_128]')\n",
    "        parser.add_argument('--n_layers_D', type=int, default=3, help='only used if netD==n_layers')\n",
    "        parser.add_argument('--norm', type=str, default='instance', help='instance normalization or batch normalization [instance | batch | none]')\n",
    "        parser.add_argument('--init_type', type=str, default='normal', help='network initialization [normal | xavier | kaiming | orthogonal]')\n",
    "        parser.add_argument('--init_gain', type=float, default=0.02, help='scaling factor for normal, xavier and orthogonal.')\n",
    "        parser.add_argument('--no_dropout', action='store_true', help='no dropout for the generator')\n",
    "        # dataset parameters\n",
    "        parser.add_argument('--dataset_mode', type=str, default='unaligned', help='chooses how datasets are loaded. [unaligned | aligned | single | colorization]')\n",
    "        parser.add_argument('--direction', type=str, default='AtoB', help='AtoB or BtoA')\n",
    "        parser.add_argument('--serial_batches', action='store_true', help='if true, takes images in order to make batches, otherwise takes them randomly')\n",
    "        parser.add_argument('--num_threads', default=4, type=int, help='# threads for loading data')\n",
    "        parser.add_argument('--batch_size', type=int, default=1, help='input batch size')\n",
    "        parser.add_argument('--load_size', type=int, default=286, help='scale images to this size')\n",
    "        parser.add_argument('--crop_size', type=int, default=256, help='then crop to this size')\n",
    "        parser.add_argument('--max_dataset_size', type=int, default=float(\"inf\"), help='Maximum number of samples allowed per dataset. If the dataset directory contains more than max_dataset_size, only a subset is loaded.')\n",
    "        parser.add_argument('--preprocess', type=str, default='resize_and_crop', help='scaling and cropping of images at load time [resize_and_crop | crop | scale_width | scale_width_and_crop | none]')\n",
    "        parser.add_argument('--no_flip', action='store_true', help='if specified, do not flip the images for data augmentation')\n",
    "        parser.add_argument('--display_winsize', type=int, default=256, help='display window size for both visdom and HTML')\n",
    "        # additional parameters\n"
   ]
  },
  {
   "cell_type": "code",
   "execution_count": null,
   "metadata": {},
   "outputs": [],
   "source": [
    "parser = BaseOptions.initialize(self, parser)  # define shared options\n",
    "        parser.add_argument('--results_dir', type=str, default='./results/', help='saves results here.')\n",
    "        parser.add_argument('--aspect_ratio', type=float, default=1.0, help='aspect ratio of result images')\n",
    "        parser.add_argument('--phase', type=str, default='test', help='train, val, test, etc')\n",
    "        # Dropout and Batchnorm has different behavioir during training and test.\n",
    "        parser.add_argument('--eval', action='store_true', help='use eval mode during test time.')\n",
    "        parser.add_argument('--num_test', type=int, default=50, help='how many test images to run')\n",
    "        # rewrite devalue values\n",
    "        parser.set_defaults(model='test')\n",
    "        # To avoid cropping, the load_size should be the same as crop_size\n",
    "        parser.set_defaults(load_size=parser.get_default('crop_size'))\n",
    "        self.isTrain = False\n"
   ]
  },
  {
   "cell_type": "code",
   "execution_count": null,
   "metadata": {},
   "outputs": [],
   "source": [
    "    opt = TestOptions().parse()  # get test options\n",
    "    # hard-code some parameters for test\n",
    "    opt.num_threads = 0   # test code only supports num_threads = 0\n",
    "    opt.batch_size = 1    # test code only supports batch_size = 1\n",
    "    opt.serial_batches = True  # disable data shuffling; comment this line if results on randomly chosen images are needed.\n",
    "    opt.no_flip = True    # no flip; comment this line if results on flipped images are needed.\n",
    "    opt.display_id = -1   # no visdom display; the test code saves the results to a HTML file.\n",
    "    dataset = create_dataset(opt)  # create a dataset given opt.dataset_mode and other options\n",
    "    model = create_model(opt)      # create a model given opt.model and other options\n",
    "    model.setup(opt)               # regular setup: load and print networks; create schedulers\n",
    "    # create a website\n",
    "    web_dir = os.path.join(opt.results_dir, opt.name, '{}_{}'.format(opt.phase, opt.epoch))  # define the website directory\n",
    "    if opt.load_iter > 0:  # load_iter is 0 by default\n",
    "        web_dir = '{:s}_iter{:d}'.format(web_dir, opt.load_iter)\n",
    "    print('creating web directory', web_dir)\n",
    "    webpage = html.HTML(web_dir, 'Experiment = %s, Phase = %s, Epoch = %s' % (opt.name, opt.phase, opt.epoch))\n",
    "    # test with eval mode. This only affects layers like batchnorm and dropout.\n",
    "    # For [pix2pix]: we use batchnorm and dropout in the original pix2pix. You can experiment it with and without eval() mode.\n",
    "    # For [CycleGAN]: It should not affect CycleGAN as CycleGAN uses instancenorm without dropout.\n",
    "    if opt.eval:\n",
    "        model.eval()\n",
    "    for i, data in enumerate(dataset):\n",
    "        if i >= opt.num_test:  # only apply our model to opt.num_test images.\n",
    "            break\n",
    "        model.set_input(data)  # unpack data from data loader\n",
    "        model.test()           # run inference\n",
    "        visuals = model.get_current_visuals()  # get image results\n",
    "        img_path = model.get_image_paths()     # get image paths\n",
    "        if i % 5 == 0:  # save images to an HTML file\n",
    "            print('processing (%04d)-th image... %s' % (i, img_path))\n",
    "        save_images(webpage, visuals, img_path, aspect_ratio=opt.aspect_ratio, width=opt.display_winsize)\n",
    "    webpage.save()  # save the HTML\n"
   ]
  },
  {
   "cell_type": "code",
   "execution_count": null,
   "metadata": {},
   "outputs": [],
   "source": []
  }
 ],
 "metadata": {
  "kernelspec": {
   "display_name": "fasterRCNN",
   "language": "python",
   "name": "fasterrcnn"
  },
  "language_info": {
   "codemirror_mode": {
    "name": "ipython",
    "version": 3
   },
   "file_extension": ".py",
   "mimetype": "text/x-python",
   "name": "python",
   "nbconvert_exporter": "python",
   "pygments_lexer": "ipython3",
   "version": "3.7.6"
  }
 },
 "nbformat": 4,
 "nbformat_minor": 2
}
